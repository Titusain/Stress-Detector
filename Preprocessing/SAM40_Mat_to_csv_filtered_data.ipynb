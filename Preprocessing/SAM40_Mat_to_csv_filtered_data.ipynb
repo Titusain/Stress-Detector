{
  "nbformat": 4,
  "nbformat_minor": 0,
  "metadata": {
    "colab": {
      "provenance": []
    },
    "kernelspec": {
      "name": "python3",
      "display_name": "Python 3"
    },
    "language_info": {
      "name": "python"
    }
  },
  "cells": [
    {
      "cell_type": "code",
      "execution_count": null,
      "metadata": {
        "id": "ZTlivMdUASM5"
      },
      "outputs": [],
      "source": [
        "import os\n",
        "from scipy.io import loadmat\n",
        "import pandas as pd\n",
        "import numpy as np\n",
        "import matplotlib.pyplot as plt\n",
        "from scipy.fftpack import fft"
      ]
    },
    {
      "cell_type": "code",
      "source": [
        "from google.colab import drive\n",
        "drive.mount('/content/drive')"
      ],
      "metadata": {
        "colab": {
          "base_uri": "https://localhost:8080/"
        },
        "id": "F0X7Nvz6AYEV",
        "outputId": "1d71a5f4-9b81-478c-9720-4bedb01ade3f"
      },
      "execution_count": null,
      "outputs": [
        {
          "output_type": "stream",
          "name": "stdout",
          "text": [
            "Drive already mounted at /content/drive; to attempt to forcibly remount, call drive.mount(\"/content/drive\", force_remount=True).\n"
          ]
        }
      ]
    },
    {
      "cell_type": "code",
      "source": [
        "list_of_files=os.listdir(\"/content/drive/MyDrive/SAM40/filtered_data/Arithmetic_task\")"
      ],
      "metadata": {
        "id": "xJtKNd7WAmNX"
      },
      "execution_count": null,
      "outputs": []
    },
    {
      "cell_type": "code",
      "source": [
        "for your_file_name in list_of_files:\n",
        "  print(your_file_name)"
      ],
      "metadata": {
        "id": "pb4auOwfFX2N"
      },
      "execution_count": null,
      "outputs": []
    },
    {
      "cell_type": "code",
      "source": [
        "for your_file_name in list_of_files:\n",
        "  p=\"/content/drive/MyDrive/SAM40/filtered_data/Arithmetic_task/\"+your_file_name\n",
        "  data=loadmat(p)\n",
        "  x=data[\"Clean_data\"]\n",
        "  df=pd.DataFrame(x)\n",
        "  size = len(your_file_name)\n",
        "  new_name = your_file_name[:size - 4]\n",
        "  s=\"/content/drive/MyDrive/SAM40/filtered_data/Arithemtic_task_csv/\"+new_name+\".csv\"\n",
        "  df.to_csv(s)"
      ],
      "metadata": {
        "id": "k9VXnNVKA7jJ"
      },
      "execution_count": null,
      "outputs": []
    },
    {
      "cell_type": "code",
      "source": [
        "list_of_files=os.listdir(\"/content/drive/MyDrive/SAM40/filtered_data/Mirror_image_task\")"
      ],
      "metadata": {
        "id": "MlLRrKOwDjRF"
      },
      "execution_count": null,
      "outputs": []
    },
    {
      "cell_type": "code",
      "source": [
        "for your_file_name in list_of_files:\n",
        "  p=\"/content/drive/MyDrive/SAM40/filtered_data/Mirror_image_task/\"+your_file_name\n",
        "  data=loadmat(p)\n",
        "  x=data[\"Clean_data\"]\n",
        "  df=pd.DataFrame(x)\n",
        "  size = len(your_file_name)\n",
        "  new_name = your_file_name[:size - 4]\n",
        "  s=\"/content/drive/MyDrive/SAM40/filtered_data/Mirror_image_task_csv/\"+new_name+\".csv\"\n",
        "  df.to_csv(s)"
      ],
      "metadata": {
        "id": "yYLl0qvZKFz_"
      },
      "execution_count": null,
      "outputs": []
    },
    {
      "cell_type": "code",
      "source": [
        "list_of_files=os.listdir(\"/content/drive/MyDrive/SAM40/filtered_data/stroop_task\")"
      ],
      "metadata": {
        "id": "k9Nc0sPjKPyq"
      },
      "execution_count": null,
      "outputs": []
    },
    {
      "cell_type": "code",
      "source": [
        "for your_file_name in list_of_files:\n",
        "  p=\"/content/drive/MyDrive/SAM40/filtered_data/stroop_task/\"+your_file_name\n",
        "  data=loadmat(p)\n",
        "  x=data[\"Clean_data\"]\n",
        "  df=pd.DataFrame(x)\n",
        "  size = len(your_file_name)\n",
        "  new_name = your_file_name[:size - 4]\n",
        "  s=\"/content/drive/MyDrive/SAM40/filtered_data/Stroop_task_csv/\"+new_name+\".csv\"\n",
        "  df.to_csv(s)"
      ],
      "metadata": {
        "id": "ixYyNXs_KUgn"
      },
      "execution_count": null,
      "outputs": []
    }
  ]
}